{
 "metadata": {
  "kernelspec": {
   "language": "python",
   "display_name": "Python 3",
   "name": "python3"
  },
  "language_info": {
   "name": "python",
   "version": "3.11.11",
   "mimetype": "text/x-python",
   "codemirror_mode": {
    "name": "ipython",
    "version": 3
   },
   "pygments_lexer": "ipython3",
   "nbconvert_exporter": "python",
   "file_extension": ".py"
  },
  "kaggle": {
   "accelerator": "nvidiaTeslaT4",
   "dataSources": [
    {
     "sourceId": 11717908,
     "sourceType": "datasetVersion",
     "datasetId": 7343266
    }
   ],
   "dockerImageVersionId": 31011,
   "isInternetEnabled": true,
   "language": "python",
   "sourceType": "notebook",
   "isGpuEnabled": true
  }
 },
 "nbformat_minor": 4,
 "nbformat": 4,
 "cells": [
  {
   "cell_type": "markdown",
   "source": "# Dataloading & Preprocessing",
   "metadata": {}
  },
  {
   "cell_type": "code",
   "source": "!pip install jiwer",
   "metadata": {
    "trusted": true,
    "execution": {
     "iopub.status.busy": "2025-05-11T08:43:17.346149Z",
     "iopub.execute_input": "2025-05-11T08:43:17.346928Z",
     "iopub.status.idle": "2025-05-11T08:43:22.916501Z",
     "shell.execute_reply.started": "2025-05-11T08:43:17.346891Z",
     "shell.execute_reply": "2025-05-11T08:43:22.915701Z"
    }
   },
   "outputs": [
    {
     "name": "stdout",
     "text": "Collecting jiwer\n  Downloading jiwer-3.1.0-py3-none-any.whl.metadata (2.6 kB)\nRequirement already satisfied: click>=8.1.8 in /usr/local/lib/python3.11/dist-packages (from jiwer) (8.1.8)\nCollecting rapidfuzz>=3.9.7 (from jiwer)\n  Downloading rapidfuzz-3.13.0-cp311-cp311-manylinux_2_17_x86_64.manylinux2014_x86_64.whl.metadata (12 kB)\nDownloading jiwer-3.1.0-py3-none-any.whl (22 kB)\nDownloading rapidfuzz-3.13.0-cp311-cp311-manylinux_2_17_x86_64.manylinux2014_x86_64.whl (3.1 MB)\n\u001B[2K   \u001B[90m━━━━━━━━━━━━━━━━━━━━━━━━━━━━━━━━━━━━━━━━\u001B[0m \u001B[32m3.1/3.1 MB\u001B[0m \u001B[31m60.5 MB/s\u001B[0m eta \u001B[36m0:00:00\u001B[0m:00:01\u001B[0m\n\u001B[?25hInstalling collected packages: rapidfuzz, jiwer\nSuccessfully installed jiwer-3.1.0 rapidfuzz-3.13.0\n",
     "output_type": "stream"
    }
   ],
   "execution_count": 1
  },
  {
   "cell_type": "code",
   "source": [
    "import os\n",
    "import torchaudio\n",
    "\n",
    "from datasets import Dataset\n",
    "from functools import partial\n",
    "from transformers import Wav2Vec2Processor\n",
    "\n",
    "\n",
    "def load_custom_data(root_dir: str):\n",
    "    audio_paths = []\n",
    "    texts = []\n",
    "\n",
    "    for movie_name in os.listdir(root_dir):\n",
    "        movie_path = os.path.join(root_dir, movie_name)\n",
    "        if not os.path.isdir(movie_path):\n",
    "            continue\n",
    "\n",
    "        for fname in os.listdir(movie_path):\n",
    "            if fname.endswith(\".wav\"):\n",
    "                base = os.path.splitext(fname)[0]\n",
    "                wav_path = os.path.join(movie_path, f\"{base}.wav\")\n",
    "                txt_path = os.path.join(movie_path, f\"{base}.txt\")\n",
    "\n",
    "                if os.path.exists(wav_path) and os.path.exists(txt_path):\n",
    "                    audio_paths.append(wav_path)\n",
    "                    with open(txt_path, \"r\", encoding=\"utf-8\") as f:\n",
    "                        texts.append(f.read().strip())\n",
    "\n",
    "    return Dataset.from_dict({\"audio\": audio_paths, \"text\": texts})\n",
    "\n",
    "def preprocess(batch, processor, resample_rate = 16_000):\n",
    "    waveform, sample_rate = torchaudio.load(batch[\"audio\"])\n",
    "\n",
    "    # resample\n",
    "    resampler = torchaudio.transforms.Resample(orig_freq=sample_rate, new_freq=resample_rate)\n",
    "    waveform = resampler(waveform)\n",
    "\n",
    "    # convert to mono\n",
    "    if waveform.size(0) > 1:\n",
    "            waveform = waveform.mean(dim=0, keepdim=True)\n",
    "\n",
    "    # normalize\n",
    "    waveform = waveform / waveform.abs().max()\n",
    "    \n",
    "    input = processor(waveform.squeeze().numpy(), sampling_rate=resample_rate, return_attention_mask=True)\n",
    "    input_values = input.input_values[0]\n",
    "    \n",
    "    batch[\"input_values\"] = input_values\n",
    "    batch[\"attention_mask\"] = input.attention_mask[0]\n",
    "\n",
    "    # process text before tokenization\n",
    "    processed_text = batch[\"text\"].upper().replace(\" \", \"|\").replace(\"\\n\", \"|\")\n",
    "    batch[\"labels\"] = processor.tokenizer(processed_text).input_ids\n",
    "    \n",
    "    return batch\n",
    "\n",
    "def prepare_dataset(raw_dataset, processor):\n",
    "    dataset = raw_dataset.train_test_split(test_size=0.1)\n",
    "    preprocess_fn = partial(preprocess, processor=processor)\n",
    "    return dataset.map(preprocess_fn, remove_columns=[\"audio\", \"text\"])"
   ],
   "metadata": {
    "_uuid": "8f2839f25d086af736a60e9eeb907d3b93b6e0e5",
    "_cell_guid": "b1076dfc-b9ad-4769-8c92-a6c4dae69d19",
    "trusted": true,
    "execution": {
     "iopub.status.busy": "2025-05-11T08:43:22.918135Z",
     "iopub.execute_input": "2025-05-11T08:43:22.918435Z",
     "iopub.status.idle": "2025-05-11T08:43:31.810478Z",
     "shell.execute_reply.started": "2025-05-11T08:43:22.918413Z",
     "shell.execute_reply": "2025-05-11T08:43:31.809955Z"
    }
   },
   "outputs": [],
   "execution_count": 2
  },
  {
   "cell_type": "markdown",
   "source": "# Trainer",
   "metadata": {}
  },
  {
   "cell_type": "code",
   "source": "from jiwer import wer\nfrom transformers import TrainingArguments, Trainer, EarlyStoppingCallback\n\ntraining_args = TrainingArguments(\n    output_dir=\"./wav2vec2-finetuned-moviesubs\",\n    group_by_length=True,\n    dataloader_num_workers=4,\n    per_device_train_batch_size=4,\n    gradient_accumulation_steps=2,\n    eval_strategy=\"epoch\",\n    save_strategy=\"epoch\",\n    load_best_model_at_end=True,\n    num_train_epochs=80,\n    fp16=False,\n    learning_rate=1e-6,\n    logging_strategy=\"steps\",\n    logging_dir=\"./logs\",\n    logging_steps=10,\n    report_to=\"none\",\n    save_total_limit=1,\n    remove_unused_columns=False,\n    max_grad_norm=0.5,\n)\n\ndef compute_metrics(pred):\n    pred_ids = pred.predictions.argmax(-1)\n    \n    pred_str = processor.batch_decode(pred_ids)\n    label_str = processor.batch_decode(pred.label_ids, group_tokens=False)\n\n    wer_loss = wer(label_str, pred_str)\n    return {\"wer\": wer_loss}",
   "metadata": {
    "trusted": true,
    "execution": {
     "iopub.status.busy": "2025-05-11T08:43:31.811144Z",
     "iopub.execute_input": "2025-05-11T08:43:31.811537Z",
     "iopub.status.idle": "2025-05-11T08:43:49.271395Z",
     "shell.execute_reply.started": "2025-05-11T08:43:31.811516Z",
     "shell.execute_reply": "2025-05-11T08:43:49.270600Z"
    }
   },
   "outputs": [
    {
     "name": "stderr",
     "text": "2025-05-11 08:43:36.011847: E external/local_xla/xla/stream_executor/cuda/cuda_fft.cc:477] Unable to register cuFFT factory: Attempting to register factory for plugin cuFFT when one has already been registered\nWARNING: All log messages before absl::InitializeLog() is called are written to STDERR\nE0000 00:00:1746953016.239829      31 cuda_dnn.cc:8310] Unable to register cuDNN factory: Attempting to register factory for plugin cuDNN when one has already been registered\nE0000 00:00:1746953016.307388      31 cuda_blas.cc:1418] Unable to register cuBLAS factory: Attempting to register factory for plugin cuBLAS when one has already been registered\n",
     "output_type": "stream"
    }
   ],
   "execution_count": 3
  },
  {
   "cell_type": "markdown",
   "source": "# DataCollator",
   "metadata": {}
  },
  {
   "cell_type": "code",
   "source": "class DataCollatorCTC:\n    def __init__(self, processor):\n        self.processor = processor\n\n    def __call__(self, features):\n        input_features = [{\"input_values\": feature[\"input_values\"]} for feature in features]\n        label_features = [{\"input_ids\": feature[\"labels\"]} for feature in features]\n\n        # pad inputs\n        batch = self.processor.pad(input_features, padding=True, return_tensors=\"pt\")\n        \n        # pad labels\n        with self.processor.as_target_processor():\n            labels_batch = self.processor.pad(\n                label_features,\n                padding=True,\n                return_tensors=\"pt\"\n            )\n        \n        # replace padding with -100 to ignore loss\n        labels = labels_batch[\"input_ids\"].masked_fill(labels_batch.attention_mask.ne(1), -100)\n        \n        batch[\"labels\"] = labels\n        return batch",
   "metadata": {
    "trusted": true,
    "execution": {
     "iopub.status.busy": "2025-05-11T08:43:49.273477Z",
     "iopub.execute_input": "2025-05-11T08:43:49.274045Z",
     "iopub.status.idle": "2025-05-11T08:43:49.279185Z",
     "shell.execute_reply.started": "2025-05-11T08:43:49.274024Z",
     "shell.execute_reply": "2025-05-11T08:43:49.278375Z"
    }
   },
   "outputs": [],
   "execution_count": 4
  },
  {
   "cell_type": "markdown",
   "source": "# Model",
   "metadata": {}
  },
  {
   "cell_type": "code",
   "source": "import torch\nimport warnings\n\nfrom transformers import Wav2Vec2ForCTC\n\nwarnings.filterwarnings(\"ignore\")\nos.environ[\"WANDB_DISABLED\"] = \"true\"\nmodel_str = \"facebook/wav2vec2-base-960h\"\n\nprocessor = Wav2Vec2Processor.from_pretrained(model_str, do_normalize=True, feature_size=1, padding_value=0.0, return_attention_mask=True)\ndata_collator = DataCollatorCTC(processor=processor)\n\nraw_dataset = load_custom_data(\"/kaggle/input/movie2sub-dataset/dataset\")\n# reduce dataset\n# raw_dataset = raw_dataset.shuffle(seed=42).select(range(100))\ndataset = prepare_dataset(raw_dataset, processor)\n\nmodel = Wav2Vec2ForCTC.from_pretrained(\n    model_str,\n    vocab_size=len(processor.tokenizer),\n    ctc_loss_reduction=\"mean\",\n    pad_token_id=processor.tokenizer.pad_token_id,\n)\n\ntrainer = Trainer(\n    model=model,\n    args=training_args,\n    train_dataset=dataset[\"train\"],\n    eval_dataset=dataset[\"test\"],\n    tokenizer=processor,\n    data_collator=data_collator,\n    compute_metrics=compute_metrics,\n    callbacks=[EarlyStoppingCallback(early_stopping_patience=5)],\n)\n\ndevice = torch.device(\"cuda\" if torch.cuda.is_available() else \"cpu\")\nmodel.to(device)\n\ntrainer.train()",
   "metadata": {
    "trusted": true,
    "execution": {
     "iopub.status.busy": "2025-05-11T08:45:25.735416Z",
     "iopub.execute_input": "2025-05-11T08:45:25.736125Z",
     "iopub.status.idle": "2025-05-11T09:07:25.695280Z",
     "shell.execute_reply.started": "2025-05-11T08:45:25.736098Z",
     "shell.execute_reply": "2025-05-11T09:07:25.694521Z"
    }
   },
   "outputs": [
    {
     "output_type": "display_data",
     "data": {
      "text/plain": "Map:   0%|          | 0/902 [00:00<?, ? examples/s]",
      "application/vnd.jupyter.widget-view+json": {
       "version_major": 2,
       "version_minor": 0,
       "model_id": "cad2c089e87b43d8856687a9f0ae9127"
      }
     },
     "metadata": {}
    },
    {
     "output_type": "display_data",
     "data": {
      "text/plain": "Map:   0%|          | 0/101 [00:00<?, ? examples/s]",
      "application/vnd.jupyter.widget-view+json": {
       "version_major": 2,
       "version_minor": 0,
       "model_id": "669af9f240de42e5bc8c5ab2f992817b"
      }
     },
     "metadata": {}
    },
    {
     "output_type": "display_data",
     "data": {
      "text/plain": "model.safetensors:   0%|          | 0.00/378M [00:00<?, ?B/s]",
      "application/vnd.jupyter.widget-view+json": {
       "version_major": 2,
       "version_minor": 0,
       "model_id": "ab87ef9655274ac0bd11b1808a6ddfd3"
      }
     },
     "metadata": {}
    },
    {
     "name": "stderr",
     "text": "Some weights of Wav2Vec2ForCTC were not initialized from the model checkpoint at facebook/wav2vec2-base-960h and are newly initialized: ['wav2vec2.masked_spec_embed']\nYou should probably TRAIN this model on a down-stream task to be able to use it for predictions and inference.\n",
     "output_type": "stream"
    },
    {
     "output_type": "display_data",
     "data": {
      "text/plain": "<IPython.core.display.HTML object>",
      "text/html": "\n    <div>\n      \n      <progress value='112' max='112' style='width:300px; height:20px; vertical-align: middle;'></progress>\n      [112/112 13:49, Epoch 1/2]\n    </div>\n    <table border=\"1\" class=\"dataframe\">\n  <thead>\n <tr style=\"text-align: left;\">\n      <th>Epoch</th>\n      <th>Training Loss</th>\n      <th>Validation Loss</th>\n      <th>Wer</th>\n    </tr>\n  </thead>\n  <tbody>\n    <tr>\n      <td>1</td>\n      <td>3.008800</td>\n      <td>2.004280</td>\n      <td>0.667170</td>\n    </tr>\n  </tbody>\n</table><p>"
     },
     "metadata": {}
    },
    {
     "execution_count": 6,
     "output_type": "execute_result",
     "data": {
      "text/plain": "TrainOutput(global_step=112, training_loss=3.22037410736084, metrics={'train_runtime': 852.9427, 'train_samples_per_second': 2.115, 'train_steps_per_second': 0.131, 'total_flos': 4.844570176512e+17, 'train_loss': 3.22037410736084, 'epoch': 1.9734513274336283})"
     },
     "metadata": {}
    }
   ],
   "execution_count": 6
  },
  {
   "cell_type": "code",
   "source": [
    "import matplotlib.pyplot as plt\n",
    "\n",
    "log_history = trainer.state.log_history\n",
    "\n",
    "train_loss = []\n",
    "train_epochs = []\n",
    "eval_loss = []\n",
    "eval_epochs = []\n",
    "\n",
    "for log in log_history:\n",
    "    if \"loss\" in log and \"epoch\" in log:\n",
    "        train_loss.append(log[\"loss\"])\n",
    "        train_epochs.append(log[\"epoch\"])\n",
    "    if \"eval_loss\" in log and \"epoch\" in log:\n",
    "        eval_loss.append(log[\"eval_loss\"])\n",
    "        eval_epochs.append(log[\"epoch\"])\n",
    "\n",
    "plt.figure(figsize=(10, 5))\n",
    "plt.plot(train_epochs, train_loss, label=\"Training Loss\")\n",
    "plt.plot(eval_epochs, eval_loss, label=\"Validation Loss\", marker='o')\n",
    "plt.xlabel(\"Epoch\")\n",
    "plt.ylabel(\"Loss\")\n",
    "plt.title(\"Training & Validation Loss\")\n",
    "plt.legend()\n",
    "plt.grid(True)\n",
    "plt.tight_layout()\n",
    "\n",
    "plt.savefig(\"./train_vs_val_loss.png\")\n",
    "plt.show()"
   ],
   "metadata": {
    "trusted": true,
    "execution": {
     "iopub.status.busy": "2025-05-11T09:07:26.189498Z",
     "iopub.execute_input": "2025-05-11T09:07:26.189726Z",
     "iopub.status.idle": "2025-05-11T09:07:26.519876Z",
     "shell.execute_reply.started": "2025-05-11T09:07:26.189699Z",
     "shell.execute_reply": "2025-05-11T09:07:26.519205Z"
    }
   },
   "outputs": [
    {
     "output_type": "display_data",
     "data": {
      "text/plain": "<Figure size 1000x500 with 1 Axes>",
      "image/png": "[encoded data removed]"
     },
     "metadata": {}
    }
   ],
   "execution_count": 8
  },
  {
   "cell_type": "code",
   "source": "from torch.utils.data import DataLoader\n\ntest_loader = DataLoader(\n    dataset[\"test\"],\n    batch_size=4,\n    shuffle=False,\n    collate_fn=data_collator,\n)\n\nfor i, batch in enumerate(test_loader):\n    with torch.no_grad():\n        output = model(input_values=batch[\"input_values\"].to(device))\n        print(\"Logits has NaNs:\", torch.isnan(output.logits).any().item())\n    \n        predicted_ids = torch.argmax(output.logits, dim=-1)\n        decoded_text = processor.decode(predicted_ids[0])\n    \n        print(f\"Decoded text: {decoded_text}\")\n        break",
   "metadata": {
    "trusted": true,
    "execution": {
     "iopub.status.busy": "2025-05-11T09:09:02.348341Z",
     "iopub.execute_input": "2025-05-11T09:09:02.348625Z",
     "iopub.status.idle": "2025-05-11T09:09:04.787903Z",
     "shell.execute_reply.started": "2025-05-11T09:09:02.348604Z",
     "shell.execute_reply": "2025-05-11T09:09:04.787225Z"
    }
   },
   "outputs": [
    {
     "name": "stdout",
     "text": "Logits has NaNs: False\nDecoded text: SAID A HOUSE FOR O PARTMEN AS THE HAUS A HOI WAS MYRY WHAT AVE I IN ED OR SHED BEN A FACTO NIGGLA O COME IN A  O DEA A MISIME YOU KNOW MY PLEASURE OF LIVING THE MANIS THAT I HAVE A GOOD LOOKING WOMAN THAT I'M WITH A GOOD LOOKING I WOULDN'T GO O WIH A WOMAN  T  BE O NE A HA HA\n",
     "output_type": "stream"
    }
   ],
   "execution_count": 11
  }
 ]
}
